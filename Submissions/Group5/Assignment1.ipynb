{
 "cells": [
  {
   "attachments": {},
   "cell_type": "markdown",
   "metadata": {},
   "source": [
    "### Question 7 : \n",
    "Write a Julia Snippet which includes a user defined function, call it \"initial_data.jl\" to define a function on a domain $$x\\in[-10,10]$$ and generates a plot of the same.\n",
    " "
   ]
  },
  {
   "cell_type": "code",
   "execution_count": 2,
   "metadata": {},
   "outputs": [
    {
     "ename": "ArgumentError",
     "evalue": "ArgumentError: Package Plots not found in current path.\n- Run `import Pkg; Pkg.add(\"Plots\")` to install the Plots package.",
     "output_type": "error",
     "traceback": [
      "ArgumentError: Package Plots not found in current path.\n",
      "- Run `import Pkg; Pkg.add(\"Plots\")` to install the Plots package.\n",
      "\n",
      "Stacktrace:\n",
      "  [1] macro expansion\n",
      "    @ .\\loading.jl:1163 [inlined]\n",
      "  [2] macro expansion\n",
      "    @ .\\lock.jl:223 [inlined]\n",
      "  [3] require(into::Module, mod::Symbol)\n",
      "    @ Base .\\loading.jl:1144\n",
      "  [4] eval\n",
      "    @ .\\boot.jl:368 [inlined]\n",
      "  [5] include_string(mapexpr::typeof(REPL.softscope), mod::Module, code::String, filename::String)\n",
      "    @ Base .\\loading.jl:1428\n",
      "  [6] #invokelatest#2\n",
      "    @ .\\essentials.jl:729 [inlined]\n",
      "  [7] invokelatest\n",
      "    @ .\\essentials.jl:726 [inlined]\n",
      "  [8] (::VSCodeServer.var\"#198#199\"{VSCodeServer.NotebookRunCellArguments, String})()\n",
      "    @ VSCodeServer c:\\Users\\91790\\.vscode\\extensions\\julialang.language-julia-1.38.2\\scripts\\packages\\VSCodeServer\\src\\serve_notebook.jl:19\n",
      "  [9] withpath(f::VSCodeServer.var\"#198#199\"{VSCodeServer.NotebookRunCellArguments, String}, path::String)\n",
      "    @ VSCodeServer c:\\Users\\91790\\.vscode\\extensions\\julialang.language-julia-1.38.2\\scripts\\packages\\VSCodeServer\\src\\repl.jl:249\n",
      " [10] notebook_runcell_request(conn::VSCodeServer.JSONRPC.JSONRPCEndpoint{Base.PipeEndpoint, Base.PipeEndpoint}, params::VSCodeServer.NotebookRunCellArguments)\n",
      "    @ VSCodeServer c:\\Users\\91790\\.vscode\\extensions\\julialang.language-julia-1.38.2\\scripts\\packages\\VSCodeServer\\src\\serve_notebook.jl:13\n",
      " [11] dispatch_msg(x::VSCodeServer.JSONRPC.JSONRPCEndpoint{Base.PipeEndpoint, Base.PipeEndpoint}, dispatcher::VSCodeServer.JSONRPC.MsgDispatcher, msg::Dict{String, Any})\n",
      "    @ VSCodeServer.JSONRPC c:\\Users\\91790\\.vscode\\extensions\\julialang.language-julia-1.38.2\\scripts\\packages\\JSONRPC\\src\\typed.jl:67\n",
      " [12] serve_notebook(pipename::String, outputchannel_logger::Base.CoreLogging.SimpleLogger; crashreporting_pipename::String)\n",
      "    @ VSCodeServer c:\\Users\\91790\\.vscode\\extensions\\julialang.language-julia-1.38.2\\scripts\\packages\\VSCodeServer\\src\\serve_notebook.jl:139\n",
      " [13] top-level scope\n",
      "    @ c:\\Users\\91790\\.vscode\\extensions\\julialang.language-julia-1.38.2\\scripts\\notebook\\notebook.jl:32"
     ]
    }
   ],
   "source": [
    "using Plots\n",
    "\n",
    "function myFunction(x)\n",
    "   return sin.(x)\n",
    "end\n",
    "\n",
    "x = range(-10,10,length=100)\n",
    "y = myFunction(x)\n",
    "plot(x,y)"
   ]
  },
  {
   "cell_type": "code",
   "execution_count": 10,
   "metadata": {},
   "outputs": [
    {
     "ename": "LoadError",
     "evalue": "LoadError: ArgumentError: Package Plots not found in current path.\n- Run `import Pkg; Pkg.add(\"Plots\")` to install the Plots package.\nin expression starting at d:\\IITD\\courses\\PYL800\\numerical_methods_2023\\Submissions\\Group5\\initial_data.jl:1",
     "output_type": "error",
     "traceback": [
      "LoadError: ArgumentError: Package Plots not found in current path.\n",
      "- Run `import Pkg; Pkg.add(\"Plots\")` to install the Plots package.\n",
      "in expression starting at d:\\IITD\\courses\\PYL800\\numerical_methods_2023\\Submissions\\Group5\\initial_data.jl:1\n",
      "\n",
      "Stacktrace:\n",
      " [1] macro expansion\n",
      "   @ .\\loading.jl:1163 [inlined]\n",
      " [2] macro expansion\n",
      "   @ .\\lock.jl:223 [inlined]\n",
      " [3] require(into::Module, mod::Symbol)\n",
      "   @ Base .\\loading.jl:1144\n",
      " [4] include(fname::String)\n",
      "   @ Base.MainInclude .\\client.jl:476\n",
      " [5] top-level scope\n",
      "   @ d:\\IITD\\courses\\PYL800\\numerical_methods_2023\\Submissions\\Group5\\Assignment1.ipynb:1"
     ]
    }
   ],
   "source": [
    "include(\"initial_data.jl\")\n",
    "\n",
    "# stepSize = 0.01\n",
    "# println(x)\n",
    "# sum=0\n",
    "\n",
    "# for i in \n",
    "\n",
    "function integrate(startx, endx, stepSize)\n",
    "    sum = 0\n",
    "    invert = 1\n",
    "    if(endx<startx)\n",
    "        temp = endx\n",
    "        endx = startx\n",
    "        startx = temp\n",
    "        invert = -1\n",
    "    end\n",
    "    # x = range(-10,10,step=stepSize)\n",
    "    maxRange = (endx-startx)/stepSize\n",
    "    for i in 0:maxRange\n",
    "        xn = startx+(i*stepSize)\n",
    "        if (i==0 || i==maxRange)\n",
    "            sum = sum+myFunction(xn)\n",
    "        elseif(mod(i,2)==1)\n",
    "            sum = sum+(4*myFunction(xn))\n",
    "        elseif(mod(i,2)==0)\n",
    "            sum = sum+(2*myFunction(xn))\n",
    "        end\n",
    "    end\n",
    "    return (invert*sum*stepSize/3)\n",
    "\n",
    "end\n",
    "\n",
    "x = range(-10,10,step = 0.001)\n",
    "y = Vector{Float64}()\n",
    "# print(integrate(0,-10,0.1))\n",
    "for i in eachindex(x)\n",
    "    push!(y,integrate(0,x[i],0.001))\n",
    "end\n",
    "plot!(x,y)"
   ]
  }
 ],
 "metadata": {
  "kernelspec": {
   "display_name": "Julia 1.8.5",
   "language": "julia",
   "name": "julia-1.8"
  },
  "language_info": {
   "file_extension": ".jl",
   "mimetype": "application/julia",
   "name": "julia",
   "version": "1.8.5"
  },
  "orig_nbformat": 4,
  "vscode": {
   "interpreter": {
    "hash": "cf7addb8aa26c0b2010e2ed36fef33f9d6da950a4f5c57c4849c27aa40902907"
   }
  }
 },
 "nbformat": 4,
 "nbformat_minor": 2
}
